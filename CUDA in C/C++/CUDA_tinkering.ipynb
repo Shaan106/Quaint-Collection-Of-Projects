{
 "cells": [
  {
   "cell_type": "markdown",
   "metadata": {},
   "source": [
    "# Preface\n",
    "\n",
    "In this notebook, I am attempting to learn how CUDA works. I will be learning from the c programming guide documentation from CUDA, and will link any other resouces I use along the way (and also try to comment my code well).\n",
    "\n",
    "Here is the link to the documentation I will be using: https://docs.nvidia.com/cuda/cuda-c-programming-guide/index.html"
   ]
  },
  {
   "cell_type": "markdown",
   "metadata": {},
   "source": [
    "## Introduction\n",
    "\n",
    "\n",
    "CPUs and GPUs are built for very different purposes.\n",
    "\n",
    "The CPU is designed to handle a wide range of tasks quickly, with low latency, and in a controlled environment. It is optimized for single-threaded performance and has a cache hierarchy that is designed to minimize the average time to access data from memory. The CPU is also designed to handle tasks that are not highly parallel, such as running an operating system, running a web browser, or playing a game.\n",
    "\n",
    "Wheras, the GPU is designed to handle a smaller range of tasks, but to handle them very quickly, with high throughput, and in a massively parallel environment. It is optimized for throughput and has a cache hierarchy that is designed to maximize the number of memory accesses that can be serviced in parallel. The GPU is also designed to handle tasks that are highly parallel, such as rendering graphics, running simulations, or training neural networks.\n",
    "\n",
    "The GPU is specialized for highly parallel computations and therefore designed such that more transistors are devoted to data processing rather than data caching and flow control.\n",
    "\n",
    "![image](CPU_GPU_comparison.png)\n",
    "\n",
    "*source: Nvidia CUDA C Programming Guide*"
   ]
  },
  {
   "cell_type": "markdown",
   "metadata": {},
   "source": []
  }
 ],
 "metadata": {
  "language_info": {
   "name": "python"
  }
 },
 "nbformat": 4,
 "nbformat_minor": 2
}
