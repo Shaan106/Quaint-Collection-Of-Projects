{
 "cells": [
  {
   "cell_type": "code",
   "execution_count": 3,
   "id": "5711b1ec",
   "metadata": {},
   "outputs": [
    {
     "ename": "ModuleNotFoundError",
     "evalue": "No module named 'qiskit.aqua'",
     "output_type": "error",
     "traceback": [
      "\u001b[0;31m---------------------------------------------------------------------------\u001b[0m",
      "\u001b[0;31mModuleNotFoundError\u001b[0m                       Traceback (most recent call last)",
      "Cell \u001b[0;32mIn[3], line 6\u001b[0m\n\u001b[1;32m      4\u001b[0m \u001b[39mimport\u001b[39;00m \u001b[39mcopy\u001b[39;00m\n\u001b[1;32m      5\u001b[0m \u001b[39mfrom\u001b[39;00m \u001b[39mqiskit\u001b[39;00m \u001b[39mimport\u001b[39;00m BasicAer\n\u001b[0;32m----> 6\u001b[0m \u001b[39mfrom\u001b[39;00m \u001b[39mqiskit\u001b[39;00m\u001b[39m.\u001b[39;00m\u001b[39maqua\u001b[39;00m \u001b[39mimport\u001b[39;00m aqua_globals, QuantumInstance\n\u001b[1;32m      7\u001b[0m \u001b[39mfrom\u001b[39;00m \u001b[39mqiskit\u001b[39;00m\u001b[39m.\u001b[39;00m\u001b[39maqua\u001b[39;00m\u001b[39m.\u001b[39;00m\u001b[39malgorithms\u001b[39;00m \u001b[39mimport\u001b[39;00m NumPyMinimumEigensolver, VQE\n\u001b[1;32m      8\u001b[0m \u001b[39mfrom\u001b[39;00m \u001b[39mqiskit\u001b[39;00m\u001b[39m.\u001b[39;00m\u001b[39maqua\u001b[39;00m\u001b[39m.\u001b[39;00m\u001b[39mcomponents\u001b[39;00m\u001b[39m.\u001b[39;00m\u001b[39moptimizers\u001b[39;00m \u001b[39mimport\u001b[39;00m SLSQP\n",
      "\u001b[0;31mModuleNotFoundError\u001b[0m: No module named 'qiskit.aqua'"
     ]
    }
   ],
   "source": [
    "# imports\n",
    "import numpy as np\n",
    "import pylab\n",
    "import copy\n",
    "from qiskit import BasicAer\n",
    "from qiskit.aqua import aqua_globals, QuantumInstance\n",
    "from qiskit.aqua.algorithms import NumPyMinimumEigensolver, VQE\n",
    "from qiskit.aqua.components.optimizers import SLSQP\n",
    "from qiskit.chemistry.components.initial_states import HartreeFock\n",
    "from qiskit.chemistry.components.variational_forms import UCCSD\n",
    "from qiskit.chemistry.drivers import PySCFDriver\n",
    "from qiskit.chemistry.core import Hamiltonian, QubitMappingType"
   ]
  },
  {
   "cell_type": "code",
   "execution_count": 6,
   "id": "2cc057d6",
   "metadata": {},
   "outputs": [],
   "source": [
    "molecule = 'H .0 .0 -{0}; Li .0 .0 {0}'\n",
    "distances = np.arange(0.5, 4.25, 0.25)\n",
    "vqe_energies = []\n",
    "hf_energies = []\n",
    "exact_energies = []"
   ]
  },
  {
   "cell_type": "code",
   "execution_count": 10,
   "id": "32b9c2c2",
   "metadata": {},
   "outputs": [
    {
     "name": "stdout",
     "output_type": "stream",
     "text": [
      "step 0\n"
     ]
    },
    {
     "name": "stderr",
     "output_type": "stream",
     "text": [
      "/var/folders/dp/z8vyqv4s3cl59_p27nqln5s80000gn/T/ipykernel_14124/2373728345.py:7: DeprecationWarning: The Hamiltonian class is deprecated as of Qiskit Aqua 0.8.0 and will be removed no earlier than 3 months after the release date. Instead, the FermionicTransformation can be used.\n",
      "  operator = Hamiltonian(qubit_mapping=QubitMappingType.PARITY,\n"
     ]
    },
    {
     "name": "stdout",
     "output_type": "stream",
     "text": [
      "step 1\n",
      "step 2\n",
      "step 3\n",
      "step 4\n",
      "step 5\n",
      "step 6\n",
      "step 7\n",
      "step 8\n",
      "step 9\n",
      "step 10\n",
      "step 11\n",
      "step 12\n",
      "step 13\n",
      "step 14\n"
     ]
    }
   ],
   "source": [
    "for i, d in enumerate(distances):\n",
    "    print('step', i)\n",
    "    \n",
    "    driver = PySCFDriver(molecule.format(d/2), basis = 'sto3g')\n",
    "    qmolecule = driver.run()\n",
    "    operator = Hamiltonian(qubit_mapping=QubitMappingType.PARITY,\n",
    "                          two_qubit_reduction=True, freeze_core=True,\n",
    "                          orbital_reduction=[-3, -2])\n",
    "    qubit_op, aux_ops = operator.run(qmolecule)\n",
    "    \n",
    "    exact_result = NumPyMinimumEigensolver(qubit_op, aux_operators=aux_ops).run()\n",
    "    exact_result = operator.process_algorithm_result(exact_result)\n",
    "    \n",
    "    optimizer = SLSQP(maxiter = 1000)\n",
    "    initial_state = HartreeFock(operator.molecule_info['num_orbitals'],\n",
    "                               operator.molecule_info['num_particles'],\n",
    "                               qubit_mapping=operator._qubit_mapping,\n",
    "                               two_qubit_reduction=operator._two_qubit_reduction)\n",
    "    \n",
    "    var_form = UCCSD(num_orbitals=operator.molecule_info['num_orbitals'],\n",
    "                    num_particles=operator.molecule_info['num_particles'],\n",
    "                    initial_state=initial_state,\n",
    "                    qubit_mapping=operator._qubit_mapping,\n",
    "                    two_qubit_reduction=operator._two_qubit_reduction)\n",
    "    \n",
    "    algo = VQE(qubit_op, var_form, optimizer, aux_operators=aux_ops)\n",
    "    \n",
    "    vqe_result = algo.run(QuantumInstance(BasicAer.get_backend('statevector_simulator')))\n",
    "    vqe_result = operator.process_algorithm_result(vqe_result)\n",
    "    \n",
    "    exact_energies.append(exact_result.energy)\n",
    "    vqe_energies.append(vqe_result.energy)\n",
    "    hf_energies.append(vqe_result.hartree_fock_energy)"
   ]
  },
  {
   "cell_type": "code",
   "execution_count": 14,
   "id": "eba9d7fc",
   "metadata": {},
   "outputs": [
    {
     "data": {
      "text/plain": [
       "<matplotlib.legend.Legend at 0x7fd9307d6fd0>"
      ]
     },
     "execution_count": 14,
     "metadata": {},
     "output_type": "execute_result"
    },
    {
     "data": {
      "image/png": "[encoded data removed]",
      "text/plain": [
       "<Figure size 432x288 with 1 Axes>"
      ]
     },
     "metadata": {
      "needs_background": "light"
     },
     "output_type": "display_data"
    }
   ],
   "source": [
    "pylab.plot(distances, hf_energies, label = 'Hatree-Fock')\n",
    "pylab.plot(distances, vqe_energies, label = 'VQE')\n",
    "pylab.plot(distances, exact_energies, label = \"Exact\")\n",
    "\n",
    "pylab.xlabel('Interatomic distance')\n",
    "pylab.ylabel('Energy')\n",
    "pylab.title('LiH Ground State Energy')\n",
    "pylab.legend(loc='upper right')"
   ]
  }
 ],
 "metadata": {
  "kernelspec": {
   "display_name": "Python 3 (ipykernel)",
   "language": "python",
   "name": "python3"
  },
  "language_info": {
   "codemirror_mode": {
    "name": "ipython",
    "version": 3
   },
   "file_extension": ".py",
   "mimetype": "text/x-python",
   "name": "python",
   "nbconvert_exporter": "python",
   "pygments_lexer": "ipython3",
   "version": "3.10.9"
  }
 },
 "nbformat": 4,
 "nbformat_minor": 5
}
